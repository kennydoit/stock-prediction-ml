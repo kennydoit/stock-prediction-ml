{
 "cells": [
  {
   "cell_type": "markdown",
   "id": "366d0185",
   "metadata": {},
   "source": [
    "# Feature Engineering for Stock Prediction\n",
    "\n",
    "This notebook handles feature engineering and analysis for stock price prediction, including technical indicators and correlation analysis across target and peer assets."
   ]
  },
  {
   "cell_type": "code",
   "execution_count": 12,
   "id": "20d365d6",
   "metadata": {},
   "outputs": [
    {
     "name": "stderr",
     "output_type": "stream",
     "text": [
      "2025-06-01 09:54:52,661 - INFO - Imports and configurations loaded successfully\n"
     ]
    }
   ],
   "source": [
    "# Standard library imports\n",
    "import sys\n",
    "import os\n",
    "import logging\n",
    "from datetime import datetime, timedelta\n",
    "\n",
    "# Configure logging\n",
    "logging.basicConfig(\n",
    "    level=logging.INFO,\n",
    "    format='%(asctime)s - %(levelname)s - %(message)s'\n",
    ")\n",
    "logger = logging.getLogger(__name__)\n",
    "\n",
    "# Add project root to path\n",
    "sys.path.append('../')\n",
    "\n",
    "# Third-party imports\n",
    "import pandas as pd\n",
    "import numpy as np\n",
    "import matplotlib.pyplot as plt\n",
    "import seaborn as sns\n",
    "import yaml\n",
    "\n",
    "# Local imports from src\n",
    "from src.data_loader import StockDataLoader\n",
    "from src.features import FeatureEngineer\n",
    "\n",
    "# Configure visualization settings\n",
    "plt.style.use('fivethirtyeight')\n",
    "plt.rcParams['figure.figsize'] = [15, 8]\n",
    "plt.rcParams['figure.dpi'] = 100\n",
    "\n",
    "logger.info(\"Imports and configurations loaded successfully\")"
   ]
  },
  {
   "cell_type": "markdown",
   "id": "03594f67",
   "metadata": {},
   "source": [
    "## 1. Data Loading"
   ]
  },
  {
   "cell_type": "markdown",
   "id": "6f1e27b1",
   "metadata": {},
   "source": [
    "## Import and create stock features"
   ]
  },
  {
   "cell_type": "code",
   "execution_count": 13,
   "id": "23c9191d",
   "metadata": {},
   "outputs": [
    {
     "name": "stderr",
     "output_type": "stream",
     "text": [
      "2025-06-01 09:54:56,258 - INFO - Target Symbol: MSFT\n",
      "2025-06-01 09:54:56,260 - INFO - Filtered Peer Symbols: AAPL, AMZN, GOOGL, META, ORCL, IBM, CRM, ADBE, NVDA, INTC, SPY, QQQ, XLK, VTI\n"
     ]
    },
    {
     "name": "stdout",
     "output_type": "stream",
     "text": [
      "\n",
      "Features saved to '../data/processed/all_features.pkl'\n"
     ]
    }
   ],
   "source": [
    "# Add logging configuration\n",
    "import logging\n",
    "logging.basicConfig(\n",
    "    level=logging.INFO,\n",
    "    format='%(asctime)s - %(levelname)s - %(message)s'\n",
    ")\n",
    "logger = logging.getLogger(__name__)\n",
    "\n",
    "# Load configuration\n",
    "with open('../config.yaml', 'r') as file:\n",
    "    config = yaml.safe_load(file)\n",
    "\n",
    "# Initialize components\n",
    "data_loader = StockDataLoader('../config.yaml')\n",
    "feature_engineer = FeatureEngineer(config)  # Pass config to FeatureEngineer\n",
    "\n",
    "# Set date range\n",
    "end_date = datetime.now()\n",
    "start_date = datetime(2024, 1, 1)  # Start from beginning of 2024\n",
    "\n",
    "# Get symbols from config\n",
    "# Get symbols from config and filter out target from peers\n",
    "target_symbol = config['target_symbol']\n",
    "peer_symbols = [symbol for symbol in config['peer_symbols'] if symbol != target_symbol]\n",
    "\n",
    "# Log the filtered symbols\n",
    "logger.info(f\"Target Symbol: {target_symbol}\")\n",
    "logger.info(f\"Filtered Peer Symbols: {', '.join(peer_symbols)}\")\n",
    "\n",
    "# Load target asset data\n",
    "target_asset = data_loader.fetch_stock_data(target_symbol, \n",
    "                                          start_date.strftime('%Y-%m-%d'),\n",
    "                                          end_date.strftime('%Y-%m-%d'))\n",
    "\n",
    "# Load peer assets data\n",
    "peer_assets = {}\n",
    "for symbol in peer_symbols:\n",
    "    peer_assets[symbol] = data_loader.fetch_stock_data(symbol,\n",
    "                                                      start_date.strftime('%Y-%m-%d'),\n",
    "                                                      end_date.strftime('%Y-%m-%d'))\n",
    "\n",
    "# Calculate features for target asset\n",
    "target_features = feature_engineer.engineer_features(target_asset)\n",
    "target_features.columns = [f'{target_symbol}_{col}' for col in target_features.columns]\n",
    "\n",
    "# Calculate and combine features for peer assets\n",
    "peer_features_list = []\n",
    "for symbol, data in peer_assets.items():\n",
    "    features = feature_engineer.engineer_features(data)\n",
    "    features.columns = [f'{symbol}_{col}' for col in features.columns]\n",
    "    peer_features_list.append(features)\n",
    "\n",
    "# Combine all peer features into a single DataFrame\n",
    "\n",
    "peer_features = pd.concat(peer_features_list, axis=1)\n",
    "\n",
    "# Display first few rows of features\n",
    "target_features.head()\n",
    "peer_features.head()\n",
    "\n",
    "# Combine target and peer features\n",
    "all_features = pd.concat([target_features, peer_features], axis=1)\n",
    "\n",
    "# Display first few rows of combined features\n",
    "all_features.head()\n",
    "\n",
    "# Create data/processed directory if it doesn't exist\n",
    "os.makedirs('../data/processed', exist_ok=True)\n",
    "\n",
    "# Save features to pickle file\n",
    "all_features.to_pickle('../data/processed/all_features.pkl')\n",
    "print(\"\\nFeatures saved to '../data/processed/all_features.pkl'\")"
   ]
  },
  {
   "cell_type": "markdown",
   "id": "f372794a",
   "metadata": {},
   "source": [
    "## 2. Technical Indicators (Optional)"
   ]
  },
  {
   "cell_type": "code",
   "execution_count": null,
   "id": "0bf8d28f",
   "metadata": {},
   "outputs": [],
   "source": [
    "## 2. Technical Indicators\n",
    "\n",
    "# First, let's print the available columns\n",
    "print(\"Available columns:\")\n",
    "print([col for col in all_features.columns if 'RSI' in col])\n",
    "\n",
    "# Then update the plotting code with the correct column name\n",
    "plt.figure(figsize=(15, 6))\n",
    "plt.plot(all_features.index, all_features[f'{target_symbol}_RSI'])  # Removed _14 suffix\n",
    "plt.axhline(y=70, color='r', linestyle='--', label='Overbought (70)')\n",
    "plt.axhline(y=30, color='g', linestyle='--', label='Oversold (30)')\n",
    "plt.title(f'RSI Over Time - {target_symbol}')\n",
    "plt.legend()\n",
    "plt.show()\n",
    "\n",
    "# Plot MACD for target asset\n",
    "plt.figure(figsize=(15, 6))\n",
    "plt.plot(all_features.index, all_features[f'{target_symbol}_MACD'], label='MACD')  # Simplified column names\n",
    "plt.plot(all_features.index, all_features[f'{target_symbol}_Signal'], label='Signal')\n",
    "plt.bar(all_features.index, all_features[f'{target_symbol}_Histogram'], label='Histogram')\n",
    "plt.title(f'MACD Analysis - {target_symbol}')\n",
    "plt.legend()\n",
    "plt.show()"
   ]
  },
  {
   "cell_type": "code",
   "execution_count": null,
   "id": "75a44b84",
   "metadata": {},
   "outputs": [],
   "source": [
    "# Compare MACD across peers\n",
    "plt.figure(figsize=(15, 6))\n",
    "for symbol in [target_symbol] + peer_symbols:\n",
    "    plt.plot(all_features.index, all_features[f'{symbol}_MACD'], label=f'{symbol}_MACD')\n",
    "    plt.plot(all_features.index, all_features[f'{symbol}_Signal'], label=f'{symbol}_Signal')\n",
    "    plt.bar(all_features.index, all_features[f'{symbol}_Histogram'], label=f'{symbol}_Histogram', alpha=0.3)\n",
    "plt.title('MACD Analysis Comparison')\n",
    "plt.legend(bbox_to_anchor=(1.05, 1), loc='upper left')\n",
    "plt.tight_layout()\n",
    "plt.show()"
   ]
  },
  {
   "cell_type": "markdown",
   "id": "d510e14d",
   "metadata": {},
   "source": [
    "## 3. Feature Correlation Analysis"
   ]
  },
  {
   "cell_type": "code",
   "execution_count": null,
   "id": "58fa66da",
   "metadata": {},
   "outputs": [],
   "source": [
    "# Calculate correlation matrix\n",
    "correlation_matrix = all_features.corr()\n",
    "\n",
    "# Create a larger figure for better readability\n",
    "plt.figure(figsize=(20, 16))\n",
    "\n",
    "# Plot correlation heatmap\n",
    "sns.heatmap(correlation_matrix, \n",
    "            annot=True, \n",
    "            cmap='coolwarm', \n",
    "            center=0,\n",
    "            fmt='.2f',\n",
    "            square=True,\n",
    "            linewidths=0.5)\n",
    "\n",
    "plt.title('Feature Correlation Matrix Across All Assets')\n",
    "plt.xticks(rotation=45, ha='right')\n",
    "plt.yticks(rotation=0)\n",
    "plt.tight_layout()\n",
    "plt.show()\n",
    "\n",
    "# Display summary of highly correlated features (|correlation| > 0.7)\n",
    "high_corr = np.where(np.abs(correlation_matrix) > 0.7)\n",
    "high_corr = [(correlation_matrix.index[x], correlation_matrix.columns[y], correlation_matrix.iloc[x, y]) \n",
    "             for x, y in zip(*high_corr) if x != y]\n",
    "\n",
    "print(\"\\nHighly correlated features (|correlation| > 0.7):\")\n",
    "for feat1, feat2, corr in sorted(high_corr, key=lambda x: abs(x[2]), reverse=True):\n",
    "    print(f\"{feat1} <-> {feat2}: {corr:.3f}\")"
   ]
  }
 ],
 "metadata": {
  "kernelspec": {
   "display_name": ".venv",
   "language": "python",
   "name": "python3"
  },
  "language_info": {
   "codemirror_mode": {
    "name": "ipython",
    "version": 3
   },
   "file_extension": ".py",
   "mimetype": "text/x-python",
   "name": "python",
   "nbconvert_exporter": "python",
   "pygments_lexer": "ipython3",
   "version": "3.13.2"
  }
 },
 "nbformat": 4,
 "nbformat_minor": 5
}
